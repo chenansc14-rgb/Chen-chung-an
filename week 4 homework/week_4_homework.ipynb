{
  "nbformat": 4,
  "nbformat_minor": 0,
  "metadata": {
    "colab": {
      "provenance": []
    },
    "kernelspec": {
      "name": "python3",
      "display_name": "Python 3"
    },
    "language_info": {
      "name": "python"
    }
  },
  "cells": [
    {
      "cell_type": "markdown",
      "source": [
        "# Approximate the integral $I=∫_{0}^{∞}\\frac{1}{1+25x^2}dx$ such that the error of approximation is less than $10^{-10}$"
      ],
      "metadata": {
        "id": "2rD23hz_0upb"
      }
    },
    {
      "cell_type": "markdown",
      "source": [
        "Notice that $I$ can be computed by setting $u=5x$ then $du=5dx$ so\n",
        "$$I=\\frac{1}{5}\\int_{0}^{\\infty}\\frac{1}{1+u^2}du=\\left.\\frac{1}{5} tan^{-1}(u)\\right|_{0}^{\\infty}=\\frac{\\pi}{10}$$"
      ],
      "metadata": {
        "id": "fFldCl2-1N3L"
      }
    },
    {
      "cell_type": "markdown",
      "source": [
        "If we want to approximate this integration without calculate, we can setting $x=\\frac{t}{1-t}$ then the range $[0,\\infty)$ will transform into $[0,1]$ and we use Gauss–Legendre quadrature."
      ],
      "metadata": {
        "id": "SZfCNvBv3VUt"
      }
    },
    {
      "cell_type": "code",
      "execution_count": 1,
      "metadata": {
        "id": "aI6sQzEU0p0d"
      },
      "outputs": [],
      "source": [
        "import argparse\n",
        "import numpy as np\n",
        "import mpmath as mp"
      ]
    },
    {
      "cell_type": "code",
      "source": [
        "def g(t):\n",
        "    \"\"\"Integrand on [0,1] after mapping x=t/(1-t).\"\"\"\n",
        "    return 1.0 / (((1.0 - t) ** 2) + 25.0 * (t ** 2))\n"
      ],
      "metadata": {
        "id": "Os_g3lbe3fwB"
      },
      "execution_count": 2,
      "outputs": []
    },
    {
      "cell_type": "code",
      "source": [
        "def gauss_legendre_adaptive(tol=1e-10, n0=32, nmax=4096, dps=80, verbose=True):\n",
        "    mp.mp.dps = dps\n",
        "\n",
        "    n = int(n0)\n",
        "    if n < 8:\n",
        "        n = 8\n",
        "\n",
        "\n",
        "    xk, wk = np.polynomial.legendre.leggauss(n)\n",
        "    t = 0.5 * (xk + 1.0)\n",
        "    w = 0.5 * wk\n",
        "    I_n = float(np.sum(g(t) * w))\n",
        "\n",
        "    while True:\n",
        "        if n * 2 > nmax:\n",
        "            if verbose:\n",
        "                print(f\"[warn] Reached nmax={nmax} without meeting tol={tol}. Using current best.\")\n",
        "            return I_n, float(\"nan\"), n\n",
        "\n",
        "        n2 = n * 2\n",
        "        xk2, wk2 = np.polynomial.legendre.leggauss(n2)\n",
        "        t2 = 0.5 * (xk2 + 1.0)\n",
        "        w2 = 0.5 * wk2\n",
        "        I_n2 = float(np.sum(g(t2) * w2))\n",
        "        est_err = abs(I_n2 - I_n)\n",
        "\n",
        "        if verbose:\n",
        "            print(\n",
        "                \"n={:5d} -> {:5d}  I_n={:.15e}  I_2n={:.15e}  |delta|={:.3e}\".format(\n",
        "                    n, n2, I_n, I_n2, est_err\n",
        "                )\n",
        "            )\n",
        "\n",
        "        if est_err < tol / 2.0:\n",
        "            return I_n2, est_err, n2\n",
        "\n",
        "        n, I_n = n2, I_n2"
      ],
      "metadata": {
        "id": "vX0Tm6yD3g7s"
      },
      "execution_count": 6,
      "outputs": []
    },
    {
      "cell_type": "code",
      "source": [
        "if __name__ == \"__main__\":\n",
        "    parser = argparse.ArgumentParser(\n",
        "        description=\"Integrate 1/(1+25x^2) on [0, inf) to target tol using Gauss–Legendre after mapping.\"\n",
        "    )\n",
        "    parser.add_argument(\"--tol\", type=float, default=1e-10, help=\"target absolute accuracy (default: 1e-10)\")\n",
        "    parser.add_argument(\"--n0\", type=int, default=32, help=\"initial number of nodes (default: 32)\")\n",
        "    parser.add_argument(\"--nmax\", type=int, default=4096, help=\"maximum number of nodes (default: 4096)\")\n",
        "    parser.add_argument(\"--dps\", type=int, default=80, help=\"mpmath decimal precision (default: 80)\")\n",
        "    parser.add_argument(\"--quiet\", action=\"store_true\", help=\"suppress per-iteration prints\")\n",
        "    args, _ = parser.parse_known_args()\n",
        "\n",
        "    I, est_err, n = gauss_legendre_adaptive(\n",
        "        tol=args.tol, n0=args.n0, nmax=args.nmax, dps=args.dps, verbose=(not args.quiet)\n",
        "    )\n",
        "\n",
        "    true = float(mp.pi / 10)\n",
        "    true_err = abs(I - true)\n",
        "\n",
        "    print(\"\\nFinal result:       \", f\"{I:.18f}\")\n",
        "    print(\"Nodes used:         \", n)\n",
        "    print(\"Est. error (delta): \", f\"{est_err:.3e}\")\n",
        "    print(\"Reference (pi/10):  \", f\"{true:.18f}\")\n",
        "    print(\"True abs. error:    \", f\"{true_err:.3e}\")\n",
        "    ok = (true_err <= args.tol) or (not np.isnan(est_err) and est_err <= args.tol)\n",
        "    print(\"Meets tolerance?     \", ok)"
      ],
      "metadata": {
        "colab": {
          "base_uri": "https://localhost:8080/"
        },
        "id": "v6M6zPUh3kwL",
        "outputId": "bcaf2ef6-a5b1-40af-ac08-6dffbbfd6b36"
      },
      "execution_count": 7,
      "outputs": [
        {
          "output_type": "stream",
          "name": "stdout",
          "text": [
            "n=   32 ->    64  I_n=3.141592653589793e-01  I_2n=3.141592653589794e-01  |delta|=1.110e-16\n",
            "\n",
            "Final result:        0.314159265358979423\n",
            "Nodes used:          64\n",
            "Est. error (delta):  1.110e-16\n",
            "Reference (pi/10):   0.314159265358979312\n",
            "True abs. error:     1.110e-16\n",
            "Meets tolerance?      True\n"
          ]
        }
      ]
    },
    {
      "cell_type": "markdown",
      "source": [
        "# Approximate the integral $I=∫_{0}^{1}\\frac{\\ln(x)}{1+25x^2}dx$ such that the error of approximation is less than $10^{-10}$"
      ],
      "metadata": {
        "id": "CqAJNqEb5Mnj"
      }
    },
    {
      "cell_type": "markdown",
      "source": [
        "## 1) Substitution \\(x=e^{-t}\\)\n",
        "\n",
        "Let $x=e^{-t}\\Rightarrow dx=-e^{-t}dt,\\ \\ln x=-t$. Then\n",
        "$$\n",
        "I=\\int_{0}^{1}\\frac{\\ln x}{1+25x^2}\\,dx\n",
        "=\\int_{0}^{\\infty}\\frac{-t\\,e^{-t}}{1+25e^{-2t}}\\,dt\n",
        "=:\\int_0^\\infty h(t)\\,dt,\n",
        "\\quad\n",
        "h(t)=\\frac{-t\\,e^{-t}}{1+25e^{-2t}}.\n",
        "$$\n",
        "Now \\(h(t)\\) decays exponentially as $t \\to \\infty$, which is numerically stable."
      ],
      "metadata": {
        "id": "OmKkXCGD-zjs"
      }
    },
    {
      "cell_type": "markdown",
      "source": [
        "## 2) Tail Error (Analytic Upper Bound)\n",
        "\n",
        "Since $|h(t)|\\le t e^{-t}$, for any $T>0$ we have\n",
        "$$\n",
        "\\left|\\int_T^\\infty h(t)\\,dt\\right|\n",
        "\\le\\int_T^\\infty t e^{-t}\\,dt\n",
        "=(T+1)e^{-T}.\n",
        "$$\n",
        "Choose $T$ so that $(T+1)e^{-T}\\le 5\\times 10^{-11}$ to allocate half of the error budget to the tail.\n",
        "For example, with $T=30$ we have $(31)e^{-30}\\approx 2.9\\times10^{-12}\\ll 10^{-10}$."
      ],
      "metadata": {
        "id": "BsixBpiO_CUw"
      }
    },
    {
      "cell_type": "markdown",
      "source": [
        "## 3) Main Interval $[0,T]$and A-Posteriori Error Estimate\n",
        "\n",
        "On $[0,T]$, use Gauss–Legendre quadrature. Double the number of nodes $n\\to 2n$ and use\n",
        "$$\n",
        "E_{\\text{main}}\\approx |I_{2n}-I_n|\n",
        "$$\n",
        "as an a-posteriori error estimate. Iterate until $E_{\\text{main}}\\le 5\\times10^{-11}$."
      ],
      "metadata": {
        "id": "hOuQCKBV_Ue2"
      }
    },
    {
      "cell_type": "markdown",
      "source": [
        "## 4) Total Error Guarantee\n",
        "\n",
        "By the triangle inequality,\n",
        "$$\n",
        "|I_{\\text{num}}-I|\n",
        "\\le E_{\\text{main}}+E_{\\text{tail}}\n",
        "\\le 5\\times10^{-11}+5\\times10^{-11}\n",
        "=10^{-10}.\n",
        "$$\n",
        "Thus we obtain a rigorous $10^{-10}$ error bound without numerically integrating the tail.\n"
      ],
      "metadata": {
        "id": "Lpi1Ohqx_mJm"
      }
    },
    {
      "cell_type": "code",
      "source": [
        "import numpy as np\n",
        "import mpmath as mp"
      ],
      "metadata": {
        "id": "yEv77kp452tZ"
      },
      "execution_count": 14,
      "outputs": []
    },
    {
      "cell_type": "code",
      "source": [
        "def h(t):\n",
        "    return (-t) * mp.e**(-t) / (1.0 + 25.0 * mp.e**(-2.0*t))\n",
        "\n",
        "def tail_bound(T):\n",
        "    return (T + 1.0) * mp.e**(-T)\n"
      ],
      "metadata": {
        "id": "gzwXHZmb7H5I"
      },
      "execution_count": 22,
      "outputs": []
    },
    {
      "cell_type": "code",
      "source": [
        "def integrate_main_interval(T, tol_main=5e-11, n0=32, nmax=4096, verbose=True):\n",
        "\n",
        "    n = max(8, int(n0))\n",
        "\n",
        "    def quad_GL(n):\n",
        "        # Gauss-Legendre nodes/weights on [-1,1]\n",
        "        xk, wk = np.polynomial.legendre.leggauss(n)\n",
        "        # map to [0,1]: u = (x+1)/2\n",
        "        u = 0.5 * (xk + 1.0)\n",
        "        w01 = 0.5 * wk\n",
        "        # map [0,1] -> [0,T]: t = u*T, dt = T du\n",
        "        t_vals = (u * T).astype(float)\n",
        "        w = (w01 * T).astype(float)\n",
        "        vals = np.array([h(tv) for tv in t_vals], dtype=float)\n",
        "        return float(np.sum(vals * w))\n",
        "\n",
        "    I_n = quad_GL(n)\n",
        "    while True:\n",
        "        if n * 2 > nmax:\n",
        "            if verbose:\n",
        "                print(f\"[warn] reached nmax={nmax}, stopping with current estimate.\")\n",
        "            return I_n, n\n",
        "        n2 = n * 2\n",
        "        I_n2 = quad_GL(n2)\n",
        "        err_est = abs(I_n2 - I_n)\n",
        "        if verbose:\n",
        "            print(f\"n={n:5d} -> {n2:5d}  I_n={I_n:.15e}  I_2n={I_n2:.15e}  |Δ|={err_est:.3e}\")\n",
        "        if err_est < tol_main:\n",
        "            return I_n2, n2\n",
        "        n, I_n = n2, I_n2\n"
      ],
      "metadata": {
        "id": "j52I8s9U9fRU"
      },
      "execution_count": 23,
      "outputs": []
    },
    {
      "cell_type": "code",
      "source": [
        "def integrate_main_interval(T, tol_main=5e-11, n0=32, nmax=4096, verbose=True):\n",
        "\n",
        "    n = max(8, int(n0))\n",
        "\n",
        "    def quad_GL(n):\n",
        "\n",
        "        xk, wk = np.polynomial.legendre.leggauss(n)\n",
        "\n",
        "        u = 0.5 * (xk + 1.0)\n",
        "        w01 = 0.5 * wk\n",
        "        t_vals = (u * T).astype(float)\n",
        "        w = (w01 * T).astype(float)\n",
        "        vals = np.array([h(tv) for tv in t_vals], dtype=float)\n",
        "        return float(np.sum(vals * w))\n",
        "\n",
        "    I_n = quad_GL(n)\n",
        "    while True:\n",
        "        if n * 2 > nmax:\n",
        "            if verbose:\n",
        "                print(f\"[warn] reached nmax={nmax}, stopping with current estimate.\")\n",
        "            return I_n, n\n",
        "        n2 = n * 2\n",
        "        I_n2 = quad_GL(n2)\n",
        "        err_est = abs(I_n2 - I_n)\n",
        "        if verbose:\n",
        "            print(f\"n={n:5d} -> {n2:5d}  I_n={I_n:.15e}  I_2n={I_n2:.15e}  |Δ|={err_est:.3e}\")\n",
        "        if err_est < tol_main:\n",
        "            return I_n2, n2\n",
        "        n, I_n = n2, I_n2"
      ],
      "metadata": {
        "id": "iP2L5Bvm9hru"
      },
      "execution_count": 24,
      "outputs": []
    },
    {
      "cell_type": "code",
      "source": [
        "def integrate_substitution_only(target=1e-10, T=30.0, n0=32, nmax=4096, dps=80, verbose=True):\n",
        "\n",
        "    mp.mp.dps = dps\n",
        "\n",
        "    E_tail = tail_bound(T)\n",
        "    if verbose:\n",
        "        print(f\"T = {T},   tail_bound(T) = {float(E_tail):.3e}\")\n",
        "    if E_tail > target / 2.0:\n",
        "        raise ValueError(\n",
        "            f\"T too small: tail_bound(T) = {float(E_tail):.3e} > {target/2:.1e}. \"\n",
        "            f\"Increase T (e.g., T=27 or 30).\"\n",
        "        )\n",
        "\n",
        "\n",
        "    I_main, n_used = integrate_main_interval(\n",
        "        T, tol_main=target/2.0, n0=n0, nmax=nmax, verbose=verbose\n",
        "    )\n",
        "\n",
        "\n",
        "    if verbose:\n",
        "        print(\"\\nResult (main only) =\", f\"{I_main:.12f}\")\n",
        "        print(f\"Guaranteed total error ≤ {target:.1e}  \"\n",
        "              f\"(main ≤ {target/2:.1e}, tail ≤ {target/2:.1e})\")\n",
        "    return I_main, n_used, float(E_tail)"
      ],
      "metadata": {
        "id": "_mg9EmrD9sXD"
      },
      "execution_count": 25,
      "outputs": []
    },
    {
      "cell_type": "code",
      "source": [
        "if __name__ == \"__main__\":\n",
        "    I, n_used, E_tail = integrate_substitution_only(\n",
        "        target=1e-10, T=30.0, n0=32, nmax=4096, dps=80, verbose=True\n",
        "    )\n",
        "    print(\"\\nI ≈\", f\"{I:.12f}\")\n",
        "    print(\"nodes used:\", n_used, \"  tail bound:\", f\"{E_tail:.3e}\")"
      ],
      "metadata": {
        "colab": {
          "base_uri": "https://localhost:8080/"
        },
        "id": "qSteIFGe-El3",
        "outputId": "274b2aa7-8240-474f-ecf7-a5716ba05ed8"
      },
      "execution_count": 26,
      "outputs": [
        {
          "output_type": "stream",
          "name": "stdout",
          "text": [
            "T = 30.0,   tail_bound(T) = 2.901e-12\n",
            "n=   32 ->    64  I_n=-5.454428922834451e-01  I_2n=-5.454445634186502e-01  |Δ|=1.671e-06\n",
            "n=   64 ->   128  I_n=-5.454445634186502e-01  I_2n=-5.454445634169020e-01  |Δ|=1.748e-12\n",
            "\n",
            "Result (main only) = -0.545444563417\n",
            "Guaranteed total error ≤ 1.0e-10  (main ≤ 5.0e-11, tail ≤ 5.0e-11)\n",
            "\n",
            "I ≈ -0.545444563417\n",
            "nodes used: 128   tail bound: 2.901e-12\n"
          ]
        }
      ]
    }
  ]
}